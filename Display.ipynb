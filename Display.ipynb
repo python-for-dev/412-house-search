{
 "cells": [
  {
   "cell_type": "code",
   "execution_count": 32,
   "metadata": {},
   "outputs": [
    {
     "name": "stdout",
     "output_type": "stream",
     "text": [
      "**************************************************************\n",
      "\n",
      "\t\tWelcome to 412 House Search\n",
      "\n",
      "**************************************************************\n",
      "\n",
      "\tHome Page\n",
      "\n",
      "Menu Options\n",
      "------------------------\n",
      "\t1.About Us\n",
      "\t2.Search House\n",
      "\t3.Exit\n",
      "\n",
      "Please press a number to select its corresponding menu option\n",
      "\n",
      "Before we begin searching tell us what kind of houses you are looking for. Lets begin with filters.\n",
      "\n",
      "\n",
      "Rent Range\n",
      "--------------------------\n",
      "\n",
      "1.Between  500$ - 1000$\n",
      "2.Between 1000$ - 1500$\n",
      "3.Between 1500$ - 2000$\n",
      "4.Between 2000$ - 2500$\n",
      "\n",
      "2.Number of Bedrooms\n",
      "--------------------------\n",
      "\n",
      "1.Single room\n",
      "2.Double bedrooms\n",
      "3.Triple bedrooms\n",
      "\n",
      "3.Pets Allowed\n",
      "--------------------------\n",
      "Are you okay to stay in a property which has Pets ? Press 'Y' for Yes and 'N' for a No.\n",
      "\n",
      "4.Property Type\n",
      "--------------------------\n",
      "1.House\n",
      "2.Apartment\n",
      "3.Condo\n",
      "4.Independent Room\n"
     ]
    }
   ],
   "source": [
    "print (\"**************************************************************\\n\")\n",
    "print(\"\\t\\tWelcome to 412 House Search\\n\")\n",
    "print (\"**************************************************************\\n\")\n",
    "\n",
    "print(\"\\tHome Page\\n\\nMenu Options\\n------------------------\")\n",
    "print(\"\\t1.About Us\\n\\t2.Search House\\n\\t3.Exit\")\n",
    "print(\"\\nPlease press a number to select its corresponding menu option\")\n",
    "\n",
    "print(\"\\nBefore we begin searching tell us what kind of houses you are looking for. Lets begin with filters.\")\n",
    "print(\"\\n\\nRent Range\\n--------------------------\")\n",
    "print(\"\\n1.Between  500$ - 1000$\\n2.Between 1000$ - 1500$\\n3.Between 1500$ - 2000$\\n4.Between 2000$ - 2500$\")\n",
    "print(\"\\n2.Number of Bedrooms\\n--------------------------\")\n",
    "print(\"\\n1.Single room\\n2.Double bedrooms\\n3.Triple bedrooms\")\n",
    "print(\"\\n3.Pets Allowed\\n--------------------------\")\n",
    "print(\"Are you okay to stay in a property which has Pets ? Press 'Y' for Yes and 'N' for a No.\")\n",
    "print(\"\\n4.Property Type\\n--------------------------\")\n",
    "print(\"1.House\\n2.Apartment\\n3.Condo\\n4.Independent Room\")\n",
    "\n"
   ]
  },
  {
   "cell_type": "code",
   "execution_count": null,
   "metadata": {
    "collapsed": true
   },
   "outputs": [],
   "source": []
  },
  {
   "cell_type": "code",
   "execution_count": null,
   "metadata": {
    "collapsed": true
   },
   "outputs": [],
   "source": []
  },
  {
   "cell_type": "code",
   "execution_count": null,
   "metadata": {
    "collapsed": true
   },
   "outputs": [],
   "source": []
  },
  {
   "cell_type": "code",
   "execution_count": null,
   "metadata": {
    "collapsed": true
   },
   "outputs": [],
   "source": []
  }
 ],
 "metadata": {
  "kernelspec": {
   "display_name": "Python 3",
   "language": "python",
   "name": "python3"
  },
  "language_info": {
   "codemirror_mode": {
    "name": "ipython",
    "version": 3
   },
   "file_extension": ".py",
   "mimetype": "text/x-python",
   "name": "python",
   "nbconvert_exporter": "python",
   "pygments_lexer": "ipython3",
   "version": "3.6.3"
  }
 },
 "nbformat": 4,
 "nbformat_minor": 2
}
